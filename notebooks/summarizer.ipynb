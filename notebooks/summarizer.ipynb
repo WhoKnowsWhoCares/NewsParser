{
 "cells": [
  {
   "cell_type": "markdown",
   "metadata": {},
   "source": [
    "Based on \n",
    "https://www.machinelearningplus.com/nlp/text-summarization-approaches-nlp-example/"
   ]
  },
  {
   "cell_type": "markdown",
   "metadata": {},
   "source": [
    "## Import Library"
   ]
  },
  {
   "cell_type": "code",
   "execution_count": 1,
   "metadata": {},
   "outputs": [],
   "source": [
    "import numpy as np\n",
    "import pandas as pd\n",
    "import matplotlib.pyplot as plt\n",
    "%matplotlib inline\n",
    "\n",
    "import seaborn as sns\n",
    "sns.set(style = \"darkgrid\")\n",
    "\n",
    "# set formatting\n",
    "pd.set_option('display.max_columns', 100)\n",
    "pd.set_option('display.max_rows', 100)"
   ]
  },
  {
   "cell_type": "markdown",
   "metadata": {},
   "source": [
    "## Preparation"
   ]
  },
  {
   "cell_type": "code",
   "execution_count": 2,
   "metadata": {},
   "outputs": [],
   "source": [
    "test1 = 'Москва. 23 августа. INTERFAX.RU - Проект указа президента, который подготовили правительство\\\n",
    "    и Банк России, предусматривает возможность приобретения у российских инвесторов заблокированных бумаг\\\n",
    "    на деньги со счетов типа \"С\", сообщили \"Интерфаксу\" в пресс-службе ЦБ.Министр финансов Антон Силуанов\\\n",
    "    во вторник заявил, что правительство и Банк России подготовили проект указа о начале обмена заблокированными\\\n",
    "    активами российских и иностранных инвесторов, на первом этапе планируется разблокировка счетов на сумму\\\n",
    "    порядка 100 млрд рублей. По его словам, сейчас активы заблокированы у 3,5 млн российских граждан на сумму\\\n",
    "    1,5 трлн рублей. \"Предполагается, что на начальном этапе будут созданы условия для \"разблокировки\" активов\\\n",
    "    в первую очередь розничным инвесторам: заинтересованным иностранным инвесторам будет предоставлена возможность\\\n",
    "    приобрести у российских инвесторов соответствующие \"заблокированные\" иностранные ценные бумаги за счет денежных\\\n",
    "    средств, находящихся на счетах типа \"С\"\", - сообщили в пресс-службе ЦБ.\\\n",
    "    Участие российских и иностранных инвесторов в этом процессе будет добровольным, отметили там.\\\n",
    "    \"Детальный порядок высвобождения активов и связанных с этим операций будет отражен в указе президента\\\n",
    "    и соответствующих правовых актах\", - добавили в Банке России. Глава ЦБ Эльвира Набиуллина в июне говорила,\\\n",
    "    что регулятор считает возможным обмен активами инвесторов, которые заморожены в России и ЕС, и рассматривает\\\n",
    "    различные варианты. Позднее первый зампред Банка России Владимир Чистюхин сообщил о проработке схемы выкупа\\\n",
    "    заблокированных активов российских инвесторов за счет средств нерезидентов на счетах типа \"С\". Такой вариант\\\n",
    "    решения проблемы замороженных активов сейчас в приоритете у регулятора, заявлял зампред ЦБ Филипп Габуния\\\n",
    "    в начале июля. Совокупный объем средств на специальных рублевых счетах типа \"С\", на которых, в том числе,\\\n",
    "    блокируются доходы по принадлежащим \"недружественным\" нерезидентам ценным бумагам, по состоянию на начало\\\n",
    "    ноября 2022 года превышал 280 млрд рублей, оценивал Банк России. Это был единственный раз, когда ЦБ раскрыл\\\n",
    "    данную цифру, с тех пор регулятор ее не комментирует. По данным источников \"Интерфакса\", на конец 2022 года\\\n",
    "    объем средств на счетах \"С\" приближался к 0,6 трлн рублей. Близкую цифру ЦБ раскрыл в аналитическом обзоре по\\\n",
    "    банковскому сектору за I квартал 2023 года: там сказано, что из НРД в Агентство по страхованию вкладов были\\\n",
    "    переведены накопленные на счетах типа \"С\" средства в размере 0,7 трлн рублей. Согласно решению совета директоров\\\n",
    "    Банка России от 29 декабря 2022 года, кредитные организации должны были открыть счета \"С\" в АСВ не позднее 20 января.'\n",
    "    \n",
    "test1_summ = 'Проект указа президента, который подготовили правительство и Банк России, предусматривает возможность\\\n",
    "    приобретения у российских инвесторов заблокированных бумаг на деньги со счетов типа \"С\", сообщили \"Интерфаксу\"\\\n",
    "    в пресс-службе ЦБ.'"
   ]
  },
  {
   "cell_type": "code",
   "execution_count": 3,
   "metadata": {},
   "outputs": [],
   "source": [
    "test2 = 'В Краснодарском крае задержали 49-летнего мужчину по подозрению в совершении преступлений против\\\n",
    "    половой неприкосновенности несовершеннолетних. Об этом заявили в пресс-службе регионального следственного\\\n",
    "    управления СК России, передает «Кубань 24».Источник РЕН ТВ сообщил, что в ночь на 29 июля мужчина совершил\\\n",
    "    действия сексуального характера в отношении пяти детей в летнем лагере.Телеграм-канал Shot сообщил, что\\\n",
    "    инцидент произошел в лагере «Счастливое детство» в Анапе. Все пострадавшие — девочки 10–12 лет. Четыре из них\\\n",
    "    приехали в лагерь из ДНР, еще одна — из Московской области. Подозреваемый — безработный из Воронежской области,\\\n",
    "    сейчас следователи выясняют, как он попал на территорию лагеря.По данному факту было возбуждено уголовное дело\\\n",
    "    по п. «б» ч. 4 ст. 132 УК (насильственные действия сексуального характера в отношении несовершеннолетних)\\\n",
    "    и ч. 2 ст. 135 УК (развратные действия). Максимальное наказание по первой — до 20 лет, по второй — до восьми лет\\\n",
    "    лишения свободы.Ранее мужчина привлекался к уголовной ответственности за проникновение на территорию жилого дома,\\\n",
    "    распитие алкоголя и употребление запрещенных веществ.«По подозрению в совершении преступления против половой\\\n",
    "    неприкосновенности несовершеннолетних следователем СКР по Краснодарскому краю задержан 49-летний мужчина.\\\n",
    "    По уголовному делу проводятся следственные действия, направленные на установление всех обстоятельств произошедшего\\\n",
    "    и сбор доказательственной базы», — сообщили РБК в СУ СКР по Краснодарскому краю'\n",
    "\n",
    "test2_summ = 'Пять детей отравились грибами в детском лагере в селе Сомино Бокситогорского района Ленинградской области.'"
   ]
  },
  {
   "cell_type": "code",
   "execution_count": 4,
   "metadata": {},
   "outputs": [],
   "source": [
    "test3 = 'Москва. 23 августа. INTERFAX.RU - Смертельная автоавария с участием грузовика Росгвардии,\\\n",
    "    перевозившего военнослужащих, произошла в Петербурге, сообщил в среду глава комитета Госдумы\\\n",
    "    по информационной политике, информационным технологиям и связи Александр Хинштейн.\"Грузовик \"Урал-4320\"\\\n",
    "    (накануне вечером на 84-м км Кольцевой автодороги - ИФ) перевозил с объекта на объект группу бойцов\\\n",
    "    33-й бригады. Неожиданно водитель впереди идущей (машины) совершил резкое торможение.\\\n",
    "    Пытаясь уйти от столкновения, водитель-сержант резко вывернул руль влево, но не справился с управлением.\\\n",
    "    Машину занесло и вынесло на середину трассы, где она ударилась об отбойник и перевернулась\",\\\n",
    "    - написал депутат в соцсети.По информации Хинштейна, четверо бойцов, находившихся в кузове, погибли.\\\n",
    "    Еще трое, включая командира инженерно-саперного взвода, получили травмы разной степени тяжести.\\\n",
    "    Предполагаемый виновник с места ДТП скрылся, написал он.По данным Хинштейна, погибшим от 19 лет до 21 года,\\\n",
    "    они проходили службу по призыву. \"Трое из них скончались на месте, один - спустя несколько часов\",\\\n",
    "    - отметил депутат.Руководство Росгвардии уже объявило, что поможет семьям погибших, добавил он.'\n",
    "    \n",
    "test3_summ = 'Смертельная автоавария с участием грузовика Росгвардии, перевозившего военнослужащих,\\\n",
    "    произошла в Петербурге, сообщил в среду глава комитета Госдумы по информационной политике,\\\n",
    "    информационным технологиям и связи Александр Хинштейн.'"
   ]
  },
  {
   "cell_type": "markdown",
   "metadata": {},
   "source": [
    "## Algorithms"
   ]
  },
  {
   "cell_type": "markdown",
   "metadata": {},
   "source": [
    "Text summarization methods can be grouped into two main categories: Extractive and Abstractive methods\\\n",
    "\n",
    "Extractive Text Summarization\\\n",
    "It is the traditional method developed first. The main objective is to identify the significant sentences of the text and add them to the summary. You need to note that the summary obtained contains exact sentences from the original text.\n",
    "\n",
    "Abstractive Text Summarization\\\n",
    "It is a more advanced method, many advancements keep coming out frequently(I will cover some of the best here). The approach is to identify the important sections, interpret the context and reproduce in a new way. This ensures that the core information is conveyed through shortest text possible. Note that here, the sentences in summary are generated, not just extracted from original text.\n"
   ]
  },
  {
   "cell_type": "markdown",
   "metadata": {},
   "source": [
    "### Sumy lib"
   ]
  },
  {
   "cell_type": "code",
   "execution_count": 16,
   "metadata": {},
   "outputs": [],
   "source": [
    "from sumy.parsers.plaintext import PlaintextParser\n",
    "from sumy.nlp.tokenizers import Tokenizer"
   ]
  },
  {
   "cell_type": "code",
   "execution_count": 17,
   "metadata": {},
   "outputs": [
    {
     "name": "stderr",
     "output_type": "stream",
     "text": [
      "[nltk_data] Downloading package punkt to /home/alexander/nltk_data...\n",
      "[nltk_data]   Package punkt is already up-to-date!\n"
     ]
    },
    {
     "data": {
      "text/plain": [
       "True"
      ]
     },
     "execution_count": 17,
     "metadata": {},
     "output_type": "execute_result"
    }
   ],
   "source": [
    "import nltk\n",
    "nltk.download('punkt')"
   ]
  },
  {
   "cell_type": "code",
   "execution_count": 21,
   "metadata": {},
   "outputs": [],
   "source": [
    "my_parser1 = PlaintextParser.from_string(test1,Tokenizer('russian'))\n",
    "my_parser2 = PlaintextParser.from_string(test2,Tokenizer('russian'))\n",
    "my_parser3 = PlaintextParser.from_string(test3,Tokenizer('russian'))\n",
    "parsers = [my_parser1,my_parser2,my_parser3]"
   ]
  },
  {
   "cell_type": "markdown",
   "metadata": {},
   "source": [
    "### Lex Rank\n",
    "A sentence which is similar to many other sentences of the text has a high probability of being important. \\\n",
    "The approach of LexRank is that a particular sentence is recommended by other similar sentences and hence is ranked higher.\\\n",
    "Higher the rank, higher is the priority of being included in the summarized text."
   ]
  },
  {
   "cell_type": "code",
   "execution_count": 23,
   "metadata": {},
   "outputs": [
    {
     "name": "stdout",
     "output_type": "stream",
     "text": [
      "INTERFAX.RU - Проект указа президента, который подготовили правительство    и Банк России, предусматривает возможность приобретения у российских инвесторов заблокированных бумаг    на деньги со счетов типа \"С\", сообщили \"Интерфаксу\" в пресс-службе ЦБ.Министр финансов Антон Силуанов    во вторник заявил, что правительство и Банк России подготовили проект указа о начале обмена заблокированными    активами российских и иностранных инвесторов, на первом этапе планируется разблокировка счетов на сумму    порядка 100 млрд рублей.\n",
      "По данным источников \"Интерфакса\", на конец 2022 года    объем средств на счетах \"С\" приближался к 0,6 трлн рублей.\n",
      "\n",
      "\n",
      "В Краснодарском крае задержали 49-летнего мужчину по подозрению в совершении преступлений против    половой неприкосновенности несовершеннолетних.\n",
      "Об этом заявили в пресс-службе регионального следственного    управления СК России, передает «Кубань 24».Источник РЕН ТВ сообщил, что в ночь на 29 июля мужчина совершил    действия сексуального характера в отношении пяти детей в летнем лагере.Телеграм-канал Shot сообщил, что    инцидент произошел в лагере «Счастливое детство» в Анапе.\n",
      "\n",
      "\n",
      "Москва.\n",
      "23 августа.\n",
      "\n",
      "\n"
     ]
    }
   ],
   "source": [
    "# Lex Rank\n",
    "from sumy.summarizers.lex_rank import LexRankSummarizer\n",
    "summarizer_lex = LexRankSummarizer()\n",
    "\n",
    "# Summarize using sumy LexRank\n",
    "for parser in parsers:\n",
    "    summary= summarizer_lex(parser.document, 2)\n",
    "    for sentence in summary:\n",
    "        print(sentence)\n",
    "    print('\\n')"
   ]
  },
  {
   "cell_type": "markdown",
   "metadata": {},
   "source": [
    "### Luhn algorithm\n",
    "Luhn Summarization algorithm’s approach is based on TF-IDF (Term Frequency-Inverse Document Frequency). \\\n",
    "It is useful when very low frequent words as well as highly frequent words(stopwords) are both not significant.\n",
    "Based on this, sentence scoring is carried out and the high ranking sentences make it to the summary."
   ]
  },
  {
   "cell_type": "code",
   "execution_count": 24,
   "metadata": {},
   "outputs": [
    {
     "name": "stdout",
     "output_type": "stream",
     "text": [
      "INTERFAX.RU - Проект указа президента, который подготовили правительство    и Банк России, предусматривает возможность приобретения у российских инвесторов заблокированных бумаг    на деньги со счетов типа \"С\", сообщили \"Интерфаксу\" в пресс-службе ЦБ.Министр финансов Антон Силуанов    во вторник заявил, что правительство и Банк России подготовили проект указа о начале обмена заблокированными    активами российских и иностранных инвесторов, на первом этапе планируется разблокировка счетов на сумму    порядка 100 млрд рублей.\n",
      "Позднее первый зампред Банка России Владимир Чистюхин сообщил о проработке схемы выкупа    заблокированных активов российских инвесторов за счет средств нерезидентов на счетах типа \"С\".\n",
      "\n",
      "\n",
      "Подозреваемый — безработный из Воронежской области,    сейчас следователи выясняют, как он попал на территорию лагеря.По данному факту было возбуждено уголовное дело    по п. «б» ч. 4 ст. 132 УК (насильственные действия сексуального характера в отношении несовершеннолетних)    и ч. 2 ст. 135 УК (развратные действия).\n",
      "Максимальное наказание по первой — до 20 лет, по второй — до восьми лет    лишения свободы.Ранее мужчина привлекался к уголовной ответственности за проникновение на территорию жилого дома,    распитие алкоголя и употребление запрещенных веществ.«По подозрению в совершении преступления против половой    неприкосновенности несовершеннолетних следователем СКР по Краснодарскому краю задержан 49-летний мужчина.\n",
      "\n",
      "\n",
      "Машину занесло и вынесло на середину трассы, где она ударилась об отбойник и перевернулась\",    - написал депутат в соцсети.По информации Хинштейна, четверо бойцов, находившихся в кузове, погибли.\n",
      "Предполагаемый виновник с места ДТП скрылся, написал он.По данным Хинштейна, погибшим от 19 лет до 21 года,    они проходили службу по призыву.\n",
      "\n",
      "\n"
     ]
    }
   ],
   "source": [
    "# Luhn Algo\n",
    "from sumy.summarizers.luhn import LuhnSummarizer\n",
    "summarizer = LuhnSummarizer()\n",
    "\n",
    "for parser in parsers:\n",
    "    summary =summarizer(parser.document, 2)\n",
    "    for sentence in summary:\n",
    "        print(sentence)\n",
    "    print('\\n')"
   ]
  },
  {
   "cell_type": "markdown",
   "metadata": {},
   "source": [
    "### LSA\n",
    "Latent Semantic Analysis is a unsupervised learning algorithm that can be used for extractive text summarization.\\\n",
    "It extracts semantically significant sentences by applying singular value decomposition(SVD) to the matrix of term-document frequency."
   ]
  },
  {
   "cell_type": "code",
   "execution_count": 27,
   "metadata": {},
   "outputs": [
    {
     "name": "stdout",
     "output_type": "stream",
     "text": [
      "Позднее первый зампред Банка России Владимир Чистюхин сообщил о проработке схемы выкупа    заблокированных активов российских инвесторов за счет средств нерезидентов на счетах типа \"С\".\n",
      "Согласно решению совета директоров    Банка России от 29 декабря 2022 года, кредитные организации должны были открыть счета \"С\" в АСВ не позднее 20 января.\n",
      "\n",
      "\n",
      "Подозреваемый — безработный из Воронежской области,    сейчас следователи выясняют, как он попал на территорию лагеря.По данному факту было возбуждено уголовное дело    по п. «б» ч. 4 ст. 132 УК (насильственные действия сексуального характера в отношении несовершеннолетних)    и ч. 2 ст. 135 УК (развратные действия).\n",
      "По уголовному делу проводятся следственные действия, направленные на установление всех обстоятельств произошедшего    и сбор доказательственной базы», — сообщили РБК в СУ СКР по Краснодарскому краю\n",
      "\n",
      "\n",
      "Предполагаемый виновник с места ДТП скрылся, написал он.По данным Хинштейна, погибшим от 19 лет до 21 года,    они проходили службу по призыву.\n",
      "\"Трое из них скончались на месте, один - спустя несколько часов\",    - отметил депутат.Руководство Росгвардии уже объявило, что поможет семьям погибших, добавил он.\n",
      "\n",
      "\n"
     ]
    }
   ],
   "source": [
    "# LSA \n",
    "from sumy.summarizers.lsa import LsaSummarizer\n",
    "lsa_summarizer=LsaSummarizer()\n",
    "\n",
    "for parser in parsers:\n",
    "    summary =lsa_summarizer(parser.document, 2)\n",
    "    for sentence in summary:\n",
    "        print(sentence)\n",
    "    print('\\n')"
   ]
  },
  {
   "cell_type": "markdown",
   "metadata": {},
   "source": [
    "### Text Rank\n",
    "TextRank is an extractive summarization technique. It is based on the concept that words which occur more frequently are significant. Hence , the sentences containing highly frequent words are important .\n",
    "Based on this , the algorithm assigns scores to each sentence in the text . The top-ranked sentences make it to the summary."
   ]
  },
  {
   "cell_type": "code",
   "execution_count": 28,
   "metadata": {},
   "outputs": [
    {
     "name": "stdout",
     "output_type": "stream",
     "text": [
      "INTERFAX.RU - Проект указа президента, который подготовили правительство    и Банк России, предусматривает возможность приобретения у российских инвесторов заблокированных бумаг    на деньги со счетов типа \"С\", сообщили \"Интерфаксу\" в пресс-службе ЦБ.Министр финансов Антон Силуанов    во вторник заявил, что правительство и Банк России подготовили проект указа о начале обмена заблокированными    активами российских и иностранных инвесторов, на первом этапе планируется разблокировка счетов на сумму    порядка 100 млрд рублей.\n",
      "\"Предполагается, что на начальном этапе будут созданы условия для \"разблокировки\" активов    в первую очередь розничным инвесторам: заинтересованным иностранным инвесторам будет предоставлена возможность    приобрести у российских инвесторов соответствующие \"заблокированные\" иностранные ценные бумаги за счет денежных    средств, находящихся на счетах типа \"С\"\", - сообщили в пресс-службе ЦБ.\n",
      "\n",
      "\n",
      "Об этом заявили в пресс-службе регионального следственного    управления СК России, передает «Кубань 24».Источник РЕН ТВ сообщил, что в ночь на 29 июля мужчина совершил    действия сексуального характера в отношении пяти детей в летнем лагере.Телеграм-канал Shot сообщил, что    инцидент произошел в лагере «Счастливое детство» в Анапе.\n",
      "Максимальное наказание по первой — до 20 лет, по второй — до восьми лет    лишения свободы.Ранее мужчина привлекался к уголовной ответственности за проникновение на территорию жилого дома,    распитие алкоголя и употребление запрещенных веществ.«По подозрению в совершении преступления против половой    неприкосновенности несовершеннолетних следователем СКР по Краснодарскому краю задержан 49-летний мужчина.\n",
      "\n",
      "\n",
      "INTERFAX.RU - Смертельная автоавария с участием грузовика Росгвардии,    перевозившего военнослужащих, произошла в Петербурге, сообщил в среду глава комитета Госдумы    по информационной политике, информационным технологиям и связи Александр Хинштейн.\n",
      "Машину занесло и вынесло на середину трассы, где она ударилась об отбойник и перевернулась\",    - написал депутат в соцсети.По информации Хинштейна, четверо бойцов, находившихся в кузове, погибли.\n",
      "\n",
      "\n"
     ]
    }
   ],
   "source": [
    "# Summarize using sumy TextRank\n",
    "from sumy.summarizers.text_rank import TextRankSummarizer\n",
    "text_summarizer = TextRankSummarizer()\n",
    "\n",
    "for parser in parsers:\n",
    "    summary =text_summarizer(parser.document, 2)\n",
    "    for sentence in summary:\n",
    "        print(sentence)\n",
    "    print('\\n')"
   ]
  },
  {
   "cell_type": "markdown",
   "metadata": {},
   "source": [
    "### KL-Sum algorithm\n",
    "\n",
    "It selects sentences based on similarity of word distribution as the original text. It aims to lower the KL-divergence criteria (learn more). It uses greedy optimization approach and keeps adding sentences till the KL-divergence decreases."
   ]
  },
  {
   "cell_type": "code",
   "execution_count": 29,
   "metadata": {},
   "outputs": [
    {
     "name": "stdout",
     "output_type": "stream",
     "text": [
      "По его словам, сейчас активы заблокированы у 3,5 млн российских граждан на сумму    1,5 трлн рублей.\n",
      "Позднее первый зампред Банка России Владимир Чистюхин сообщил о проработке схемы выкупа    заблокированных активов российских инвесторов за счет средств нерезидентов на счетах типа \"С\".\n",
      "\n",
      "\n",
      "Об этом заявили в пресс-службе регионального следственного    управления СК России, передает «Кубань 24».Источник РЕН ТВ сообщил, что в ночь на 29 июля мужчина совершил    действия сексуального характера в отношении пяти детей в летнем лагере.Телеграм-канал Shot сообщил, что    инцидент произошел в лагере «Счастливое детство» в Анапе.\n",
      "Четыре из них    приехали в лагерь из ДНР, еще одна — из Московской области.\n",
      "\n",
      "\n",
      "Машину занесло и вынесло на середину трассы, где она ударилась об отбойник и перевернулась\",    - написал депутат в соцсети.По информации Хинштейна, четверо бойцов, находившихся в кузове, погибли.\n",
      "\"Трое из них скончались на месте, один - спустя несколько часов\",    - отметил депутат.Руководство Росгвардии уже объявило, что поможет семьям погибших, добавил он.\n",
      "\n",
      "\n"
     ]
    }
   ],
   "source": [
    "from sumy.summarizers.kl import KLSummarizer\n",
    "kl_summarizer=KLSummarizer()\n",
    "\n",
    "for parser in parsers:\n",
    "    summary =kl_summarizer(parser.document, 2)\n",
    "    for sentence in summary:\n",
    "        print(sentence)\n",
    "    print('\\n')"
   ]
  },
  {
   "cell_type": "markdown",
   "metadata": {},
   "source": [
    "### T5\n",
    "T5 is an encoder-decoder model. It converts all language problems into a text-to-text format.\n",
    "First, you need to import the tokenizer and corresponding model through below command.\n",
    "It is preferred to use T5ForConditionalGeneration model when the input and output are both sequences."
   ]
  },
  {
   "cell_type": "code",
   "execution_count": 8,
   "metadata": {},
   "outputs": [],
   "source": [
    "from transformers import T5Tokenizer, T5TokenizerFast, T5Config, T5ForConditionalGeneration"
   ]
  },
  {
   "cell_type": "code",
   "execution_count": 11,
   "metadata": {},
   "outputs": [
    {
     "ename": "UnboundLocalError",
     "evalue": "local variable 'sentencepiece_model_pb2' referenced before assignment",
     "output_type": "error",
     "traceback": [
      "\u001b[0;31m---------------------------------------------------------------------------\u001b[0m",
      "\u001b[0;31mUnboundLocalError\u001b[0m                         Traceback (most recent call last)",
      "Cell \u001b[0;32mIn[11], line 3\u001b[0m\n\u001b[1;32m      1\u001b[0m \u001b[39m# model = 't5-small'\u001b[39;00m\n\u001b[1;32m      2\u001b[0m model \u001b[39m=\u001b[39m \u001b[39m'\u001b[39m\u001b[39mcointegrated/rut5-base\u001b[39m\u001b[39m'\u001b[39m\n\u001b[0;32m----> 3\u001b[0m tokenizer \u001b[39m=\u001b[39m T5Tokenizer\u001b[39m.\u001b[39;49mfrom_pretrained(model)\n\u001b[1;32m      4\u001b[0m my_model \u001b[39m=\u001b[39m T5ForConditionalGeneration\u001b[39m.\u001b[39mfrom_pretrained(model)\n",
      "File \u001b[0;32m~/Documents/Programming/newsparser/.venv/lib/python3.10/site-packages/transformers/tokenization_utils_base.py:1854\u001b[0m, in \u001b[0;36mPreTrainedTokenizerBase.from_pretrained\u001b[0;34m(cls, pretrained_model_name_or_path, cache_dir, force_download, local_files_only, token, revision, *init_inputs, **kwargs)\u001b[0m\n\u001b[1;32m   1851\u001b[0m     \u001b[39melse\u001b[39;00m:\n\u001b[1;32m   1852\u001b[0m         logger\u001b[39m.\u001b[39minfo(\u001b[39mf\u001b[39m\u001b[39m\"\u001b[39m\u001b[39mloading file \u001b[39m\u001b[39m{\u001b[39;00mfile_path\u001b[39m}\u001b[39;00m\u001b[39m from cache at \u001b[39m\u001b[39m{\u001b[39;00mresolved_vocab_files[file_id]\u001b[39m}\u001b[39;00m\u001b[39m\"\u001b[39m)\n\u001b[0;32m-> 1854\u001b[0m \u001b[39mreturn\u001b[39;00m \u001b[39mcls\u001b[39;49m\u001b[39m.\u001b[39;49m_from_pretrained(\n\u001b[1;32m   1855\u001b[0m     resolved_vocab_files,\n\u001b[1;32m   1856\u001b[0m     pretrained_model_name_or_path,\n\u001b[1;32m   1857\u001b[0m     init_configuration,\n\u001b[1;32m   1858\u001b[0m     \u001b[39m*\u001b[39;49minit_inputs,\n\u001b[1;32m   1859\u001b[0m     token\u001b[39m=\u001b[39;49mtoken,\n\u001b[1;32m   1860\u001b[0m     cache_dir\u001b[39m=\u001b[39;49mcache_dir,\n\u001b[1;32m   1861\u001b[0m     local_files_only\u001b[39m=\u001b[39;49mlocal_files_only,\n\u001b[1;32m   1862\u001b[0m     _commit_hash\u001b[39m=\u001b[39;49mcommit_hash,\n\u001b[1;32m   1863\u001b[0m     _is_local\u001b[39m=\u001b[39;49mis_local,\n\u001b[1;32m   1864\u001b[0m     \u001b[39m*\u001b[39;49m\u001b[39m*\u001b[39;49mkwargs,\n\u001b[1;32m   1865\u001b[0m )\n",
      "File \u001b[0;32m~/Documents/Programming/newsparser/.venv/lib/python3.10/site-packages/transformers/tokenization_utils_base.py:2017\u001b[0m, in \u001b[0;36mPreTrainedTokenizerBase._from_pretrained\u001b[0;34m(cls, resolved_vocab_files, pretrained_model_name_or_path, init_configuration, token, cache_dir, local_files_only, _commit_hash, _is_local, *init_inputs, **kwargs)\u001b[0m\n\u001b[1;32m   2015\u001b[0m \u001b[39m# Instantiate tokenizer.\u001b[39;00m\n\u001b[1;32m   2016\u001b[0m \u001b[39mtry\u001b[39;00m:\n\u001b[0;32m-> 2017\u001b[0m     tokenizer \u001b[39m=\u001b[39m \u001b[39mcls\u001b[39;49m(\u001b[39m*\u001b[39;49minit_inputs, \u001b[39m*\u001b[39;49m\u001b[39m*\u001b[39;49minit_kwargs)\n\u001b[1;32m   2018\u001b[0m \u001b[39mexcept\u001b[39;00m \u001b[39mOSError\u001b[39;00m:\n\u001b[1;32m   2019\u001b[0m     \u001b[39mraise\u001b[39;00m \u001b[39mOSError\u001b[39;00m(\n\u001b[1;32m   2020\u001b[0m         \u001b[39m\"\u001b[39m\u001b[39mUnable to load vocabulary from file. \u001b[39m\u001b[39m\"\u001b[39m\n\u001b[1;32m   2021\u001b[0m         \u001b[39m\"\u001b[39m\u001b[39mPlease check that the provided vocabulary is accessible and not corrupted.\u001b[39m\u001b[39m\"\u001b[39m\n\u001b[1;32m   2022\u001b[0m     )\n",
      "File \u001b[0;32m~/Documents/Programming/newsparser/.venv/lib/python3.10/site-packages/transformers/models/t5/tokenization_t5.py:194\u001b[0m, in \u001b[0;36mT5Tokenizer.__init__\u001b[0;34m(self, vocab_file, eos_token, unk_token, pad_token, extra_ids, additional_special_tokens, sp_model_kwargs, legacy, **kwargs)\u001b[0m\n\u001b[1;32m    191\u001b[0m \u001b[39mself\u001b[39m\u001b[39m.\u001b[39mvocab_file \u001b[39m=\u001b[39m vocab_file\n\u001b[1;32m    192\u001b[0m \u001b[39mself\u001b[39m\u001b[39m.\u001b[39m_extra_ids \u001b[39m=\u001b[39m extra_ids\n\u001b[0;32m--> 194\u001b[0m \u001b[39mself\u001b[39m\u001b[39m.\u001b[39msp_model \u001b[39m=\u001b[39m \u001b[39mself\u001b[39;49m\u001b[39m.\u001b[39;49mget_spm_processor()\n",
      "File \u001b[0;32m~/Documents/Programming/newsparser/.venv/lib/python3.10/site-packages/transformers/models/t5/tokenization_t5.py:200\u001b[0m, in \u001b[0;36mT5Tokenizer.get_spm_processor\u001b[0;34m(self)\u001b[0m\n\u001b[1;32m    198\u001b[0m \u001b[39mwith\u001b[39;00m \u001b[39mopen\u001b[39m(\u001b[39mself\u001b[39m\u001b[39m.\u001b[39mvocab_file, \u001b[39m\"\u001b[39m\u001b[39mrb\u001b[39m\u001b[39m\"\u001b[39m) \u001b[39mas\u001b[39;00m f:\n\u001b[1;32m    199\u001b[0m     sp_model \u001b[39m=\u001b[39m f\u001b[39m.\u001b[39mread()\n\u001b[0;32m--> 200\u001b[0m     model_pb2 \u001b[39m=\u001b[39m import_protobuf()\n\u001b[1;32m    201\u001b[0m     model \u001b[39m=\u001b[39m model_pb2\u001b[39m.\u001b[39mModelProto\u001b[39m.\u001b[39mFromString(sp_model)\n\u001b[1;32m    202\u001b[0m     \u001b[39mif\u001b[39;00m \u001b[39mnot\u001b[39;00m \u001b[39mself\u001b[39m\u001b[39m.\u001b[39mlegacy:\n",
      "File \u001b[0;32m~/Documents/Programming/newsparser/.venv/lib/python3.10/site-packages/transformers/convert_slow_tokenizer.py:40\u001b[0m, in \u001b[0;36mimport_protobuf\u001b[0;34m()\u001b[0m\n\u001b[1;32m     38\u001b[0m     \u001b[39melse\u001b[39;00m:\n\u001b[1;32m     39\u001b[0m         \u001b[39mfrom\u001b[39;00m \u001b[39mtransformers\u001b[39;00m\u001b[39m.\u001b[39;00m\u001b[39mutils\u001b[39;00m \u001b[39mimport\u001b[39;00m sentencepiece_model_pb2_new \u001b[39mas\u001b[39;00m sentencepiece_model_pb2\n\u001b[0;32m---> 40\u001b[0m \u001b[39mreturn\u001b[39;00m sentencepiece_model_pb2\n",
      "\u001b[0;31mUnboundLocalError\u001b[0m: local variable 'sentencepiece_model_pb2' referenced before assignment"
     ]
    }
   ],
   "source": [
    "# model = 't5-small'\n",
    "model = 'cointegrated/rut5-base'\n",
    "tokenizer = T5Tokenizer.from_pretrained(model)\n",
    "my_model = T5ForConditionalGeneration.from_pretrained(model)"
   ]
  },
  {
   "cell_type": "code",
   "execution_count": 19,
   "metadata": {},
   "outputs": [
    {
     "name": "stderr",
     "output_type": "stream",
     "text": [
      "/home/alexander/Documents/Programming/newsparser/.venv/lib/python3.10/site-packages/transformers/generation/utils.py:1254: UserWarning: Using the model-agnostic default `max_length` (=20) to control thegeneration length. We recommend setting `max_new_tokens` to control the maximum length of the generation.\n",
      "  warnings.warn(\n"
     ]
    }
   ],
   "source": [
    "text = \"summarize:\" + test1\n",
    "input_ids=tokenizer.encode(text, return_tensors='pt', max_length=512,truncation=True)\n",
    "summary_ids = my_model.generate(input_ids)\n",
    "t5_summary = tokenizer.decode(summary_ids[0])"
   ]
  },
  {
   "cell_type": "code",
   "execution_count": 20,
   "metadata": {},
   "outputs": [
    {
     "data": {
      "text/plain": [
       "'<pad> <unk>роект ука<unk>а <unk>ре<unk>идента'"
      ]
     },
     "execution_count": 20,
     "metadata": {},
     "output_type": "execute_result"
    }
   ],
   "source": [
    "t5_summary"
   ]
  },
  {
   "cell_type": "markdown",
   "metadata": {},
   "source": [
    "### BART"
   ]
  },
  {
   "cell_type": "code",
   "execution_count": 21,
   "metadata": {},
   "outputs": [],
   "source": [
    "from transformers import BartForConditionalGeneration, BartTokenizer, BartConfig"
   ]
  },
  {
   "cell_type": "code",
   "execution_count": 22,
   "metadata": {},
   "outputs": [],
   "source": [
    "tokenizer=BartTokenizer.from_pretrained('facebook/bart-large-cnn')\n",
    "model=BartForConditionalGeneration.from_pretrained('facebook/bart-large-cnn')"
   ]
  },
  {
   "cell_type": "code",
   "execution_count": 23,
   "metadata": {},
   "outputs": [],
   "source": [
    "text = test1\n",
    "inputs = tokenizer.batch_encode_plus([text],return_tensors='pt',truncation=True)\n",
    "summary_ids = model.generate(inputs['input_ids'], early_stopping=True)\n",
    "bart_summary = tokenizer.decode(summary_ids[0], skip_special_tokens=True)"
   ]
  },
  {
   "cell_type": "code",
   "execution_count": 24,
   "metadata": {},
   "outputs": [
    {
     "data": {
      "text/plain": [
       "'\"На   \\xa0\"Интерфакр\"   \"С\", \\xa0“Не \\xa0президент”,   “С’,  ‘’Н. “’” “\\xa0”“‘”\"’\"\\u2009“\"”\\xa0‘\"‘Н’ ”‚”  \\u2009\\u2009 “\"М” \"\\u2009\" \\u2009\"“ ”\"\"�'"
      ]
     },
     "execution_count": 24,
     "metadata": {},
     "output_type": "execute_result"
    }
   ],
   "source": [
    "bart_summary"
   ]
  },
  {
   "cell_type": "markdown",
   "metadata": {},
   "source": [
    "### Transformers Pipeline"
   ]
  },
  {
   "cell_type": "code",
   "execution_count": 5,
   "metadata": {},
   "outputs": [
    {
     "name": "stderr",
     "output_type": "stream",
     "text": [
      "/home/alexander/Documents/Programming/newsparser/.venv/lib/python3.10/site-packages/tqdm/auto.py:21: TqdmWarning: IProgress not found. Please update jupyter and ipywidgets. See https://ipywidgets.readthedocs.io/en/stable/user_install.html\n",
      "  from .autonotebook import tqdm as notebook_tqdm\n"
     ]
    }
   ],
   "source": [
    "from transformers import pipeline"
   ]
  },
  {
   "cell_type": "code",
   "execution_count": 12,
   "metadata": {},
   "outputs": [
    {
     "name": "stderr",
     "output_type": "stream",
     "text": [
      "Downloading (…)okenizer_config.json: 100%|██████████| 42.0/42.0 [00:00<00:00, 479kB/s]\n",
      "Downloading (…)lve/main/config.json: 100%|██████████| 1.38k/1.38k [00:00<00:00, 17.4MB/s]\n",
      "Downloading (…)olve/main/source.spm: 100%|██████████| 1.08M/1.08M [00:00<00:00, 2.29MB/s]\n",
      "Downloading (…)olve/main/target.spm: 100%|██████████| 803k/803k [00:00<00:00, 6.97MB/s]\n",
      "Downloading (…)olve/main/vocab.json: 100%|██████████| 2.60M/2.60M [00:00<00:00, 3.81MB/s]\n",
      "/home/alexander/Documents/Programming/newsparser/.venv/lib/python3.10/site-packages/transformers/models/marian/tokenization_marian.py:194: UserWarning: Recommended: pip install sacremoses.\n",
      "  warnings.warn(\"Recommended: pip install sacremoses.\")\n",
      "Downloading pytorch_model.bin: 100%|██████████| 307M/307M [00:07<00:00, 41.4MB/s] \n",
      "Downloading (…)neration_config.json: 100%|██████████| 293/293 [00:00<00:00, 3.22MB/s]\n"
     ]
    }
   ],
   "source": [
    "from transformers import AutoTokenizer, AutoModelForSeq2SeqLM\n",
    "tokenizer = AutoTokenizer.from_pretrained(\"Helsinki-NLP/opus-mt-ru-en\")\n",
    "model = AutoModelForSeq2SeqLM.from_pretrained(\"Helsinki-NLP/opus-mt-ru-en\")"
   ]
  },
  {
   "cell_type": "code",
   "execution_count": 20,
   "metadata": {},
   "outputs": [
    {
     "data": {
      "text/plain": [
       "'Moscow. On 23 August, the head of the State Duma Committee on Information Policy, Information Technology and Communications, Alexander Hinstein, reported on Wednesday to the head of the State Duma\\'s Committee on Information Policy, Information Technology and Communications. \"The truck \"Ural 4320\" (the night before it was 84 km on the Ring Road - IF) was carrying a group of 33rd Brigade fighters from the site. \"The driver ahead (machine) made an unexpected stop. In an attempt to escape the collision, the driver sergeant turned the steering wheel to the left but failed to control. The truck was carried and carried to the middle of the track, where it hit the Rallyman and turned over,\" wrote a deputy in the social network. \"Hinstein, four men in the body, died. Three others, including the commander of the engineer piercing, were already injured by the men of the day, they were injured by the men of the 21st grade, they were forced by the men of the 19th grade.'"
      ]
     },
     "execution_count": 20,
     "metadata": {},
     "output_type": "execute_result"
    }
   ],
   "source": [
    "# Ru to English\n",
    "translator = pipeline('translation_ru_to_en', model = model, tokenizer=tokenizer)\n",
    "test3_en = translator(test3)[0]['translation_text']\n",
    "test3_en"
   ]
  },
  {
   "cell_type": "code",
   "execution_count": 22,
   "metadata": {},
   "outputs": [
    {
     "name": "stderr",
     "output_type": "stream",
     "text": [
      "No model was supplied, defaulted to sshleifer/distilbart-cnn-12-6 and revision a4f8f3e (https://huggingface.co/sshleifer/distilbart-cnn-12-6).\n",
      "Using a pipeline without specifying a model name and revision in production is not recommended.\n"
     ]
    },
    {
     "data": {
      "text/plain": [
       "[{'summary_text': ' Alexander Hinstein reported on Wednesday to the head of the State Duma\\'s Committee on Information Policy, Information Technology and Communications . \"The driver ahead (machine) made an unexpected stop, the driver sergeant turned the steering wheel to the left but failed to control. The truck was carried and carried to the middle of the track, where it hit the Rallyman and turned over,\" wrote a deputy .'}]"
      ]
     },
     "execution_count": 22,
     "metadata": {},
     "output_type": "execute_result"
    }
   ],
   "source": [
    "nlp_summarizer = pipeline('summarization')\n",
    "nlp_summarizer(test3_en)"
   ]
  }
 ],
 "metadata": {
  "kernelspec": {
   "display_name": ".venv",
   "language": "python",
   "name": "python3"
  },
  "language_info": {
   "codemirror_mode": {
    "name": "ipython",
    "version": 3
   },
   "file_extension": ".py",
   "mimetype": "text/x-python",
   "name": "python",
   "nbconvert_exporter": "python",
   "pygments_lexer": "ipython3",
   "version": "3.10.12"
  },
  "orig_nbformat": 4
 },
 "nbformat": 4,
 "nbformat_minor": 2
}
